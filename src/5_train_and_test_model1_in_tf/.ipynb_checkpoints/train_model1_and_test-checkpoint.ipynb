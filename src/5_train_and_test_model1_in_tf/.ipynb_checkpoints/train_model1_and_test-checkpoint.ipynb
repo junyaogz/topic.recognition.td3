{
 "cells": [
  {
   "cell_type": "code",
   "execution_count": 601,
   "id": "cb95000c",
   "metadata": {},
   "outputs": [],
   "source": [
    "# [Author]: Jun Yao\n",
    "# [Date]: 2021-12-10\n",
    "\n",
    "# [Description] \n",
    "# this file has the following functionalities\n",
    "# (1) train model 1 in the paper and evaluate it against test data with golden labels.\n",
    "# (2) calculate random guess accuracy\n",
    "# (3) evaluate the decoded texts from model 2 (tri3 model trained in Kaldi).\n",
    "\n",
    "# input of this script:\n",
    "# stm_transcript_labels.csv\n",
    "# test_text_from_model2.csv\n",
    "\n",
    "# output of this script:\n",
    "# prediction accuracy in the conclusion\n",
    "\n",
    "# [Conclusion] \n",
    "# (1) random guess accuracy is merely 0.11, \n",
    "# (2) test accuracy of model 1 using the transcripts provided by TEDLIUM-3 is 0.40.\n",
    "# (3) test accuracy of model 1 using the decoded text provided by model 2 is 0.28.\n",
    "# as a reference, human prediction accuracy by the author is 0.53 (tried 3 times and pick the highest), \n",
    "\n",
    "# [References]\n",
    "# 1. https://keras.io/examples/nlp/multi_label_classification/\n",
    "# 2. https://en.wikipedia.org/wiki/Multi-label_classification"
   ]
  },
  {
   "cell_type": "code",
   "execution_count": 602,
   "id": "9dbbf24f",
   "metadata": {},
   "outputs": [],
   "source": [
    "from tensorflow.keras import layers\n",
    "from tensorflow import keras\n",
    "import tensorflow as tf\n",
    "from sklearn.model_selection import train_test_split\n",
    "from ast import literal_eval\n",
    "import matplotlib.pyplot as plt\n",
    "import pandas as pd\n",
    "import numpy as np"
   ]
  },
  {
   "cell_type": "code",
   "execution_count": 603,
   "id": "13c28244",
   "metadata": {},
   "outputs": [
    {
     "name": "stdout",
     "output_type": "stream",
     "text": [
      "There are 2351 rows in the dataset.\n"
     ]
    },
    {
     "data": {
      "text/html": [
       "<div>\n",
       "<style scoped>\n",
       "    .dataframe tbody tr th:only-of-type {\n",
       "        vertical-align: middle;\n",
       "    }\n",
       "\n",
       "    .dataframe tbody tr th {\n",
       "        vertical-align: top;\n",
       "    }\n",
       "\n",
       "    .dataframe thead th {\n",
       "        text-align: right;\n",
       "    }\n",
       "</style>\n",
       "<table border=\"1\" class=\"dataframe\">\n",
       "  <thead>\n",
       "    <tr style=\"text-align: right;\">\n",
       "      <th></th>\n",
       "      <th>titles</th>\n",
       "      <th>summaries</th>\n",
       "      <th>terms</th>\n",
       "    </tr>\n",
       "  </thead>\n",
       "  <tbody>\n",
       "    <tr>\n",
       "      <th>0</th>\n",
       "      <td>911Mothers_2010W.stm</td>\n",
       "      <td>because of. the fact that we have what most pe...</td>\n",
       "      <td>['culture','global issues','parenting']</td>\n",
       "    </tr>\n",
       "    <tr>\n",
       "      <th>1</th>\n",
       "      <td>AalaElKhani_2016X.stm</td>\n",
       "      <td>over one point five billion people experience ...</td>\n",
       "      <td>['communication','community','family']</td>\n",
       "    </tr>\n",
       "    <tr>\n",
       "      <th>2</th>\n",
       "      <td>AaronHuey_2010X.stm</td>\n",
       "      <td>m here today to show my photographs of the lak...</td>\n",
       "      <td>['TEDx','culture','history']</td>\n",
       "    </tr>\n",
       "    <tr>\n",
       "      <th>3</th>\n",
       "      <td>AaronKoblin_2011.stm</td>\n",
       "      <td>data can actually make us more human. we re co...</td>\n",
       "      <td>['collaboration','data','design']</td>\n",
       "    </tr>\n",
       "    <tr>\n",
       "      <th>4</th>\n",
       "      <td>AaronOConnell_2011.stm</td>\n",
       "      <td>this is a representation of your brain  and yo...</td>\n",
       "      <td>['philosophy','physics','science']</td>\n",
       "    </tr>\n",
       "  </tbody>\n",
       "</table>\n",
       "</div>"
      ],
      "text/plain": [
       "                   titles                                          summaries  \\\n",
       "0    911Mothers_2010W.stm  because of. the fact that we have what most pe...   \n",
       "1   AalaElKhani_2016X.stm  over one point five billion people experience ...   \n",
       "2     AaronHuey_2010X.stm  m here today to show my photographs of the lak...   \n",
       "3    AaronKoblin_2011.stm  data can actually make us more human. we re co...   \n",
       "4  AaronOConnell_2011.stm  this is a representation of your brain  and yo...   \n",
       "\n",
       "                                     terms  \n",
       "0  ['culture','global issues','parenting']  \n",
       "1   ['communication','community','family']  \n",
       "2             ['TEDx','culture','history']  \n",
       "3        ['collaboration','data','design']  \n",
       "4       ['philosophy','physics','science']  "
      ]
     },
     "execution_count": 603,
     "metadata": {},
     "output_type": "execute_result"
    }
   ],
   "source": [
    "orig_data = pd.read_csv(\"stm_transcript_labels.csv\",sep=\",\", error_bad_lines=False)\n",
    "print(f\"There are {len(orig_data)} rows in the dataset.\")\n",
    "orig_data.head()"
   ]
  },
  {
   "cell_type": "code",
   "execution_count": 604,
   "id": "fc4f2072",
   "metadata": {},
   "outputs": [
    {
     "name": "stdout",
     "output_type": "stream",
     "text": [
      "There are 0 duplicate titles.\n",
      "There are 2351 rows in the deduplicated dataset.\n",
      "1668\n",
      "1940\n",
      "Number of rows in training set: 409\n",
      "Number of rows in validation set: 137\n",
      "Number of rows in test set: 137\n"
     ]
    },
    {
     "name": "stderr",
     "output_type": "stream",
     "text": [
      "/Users/yaojun/opt/anaconda3/lib/python3.8/site-packages/pandas/core/frame.py:4308: SettingWithCopyWarning: \n",
      "A value is trying to be set on a copy of a slice from a DataFrame\n",
      "\n",
      "See the caveats in the documentation: https://pandas.pydata.org/pandas-docs/stable/user_guide/indexing.html#returning-a-view-versus-a-copy\n",
      "  return super().drop(\n"
     ]
    }
   ],
   "source": [
    "# ================ Remove duplicate items\n",
    "total_duplicate_titles = sum(orig_data[\"titles\"].duplicated())\n",
    "print(f\"There are {total_duplicate_titles} duplicate titles.\")\n",
    "orig_data = orig_data[~orig_data[\"titles\"].duplicated()]\n",
    "print(f\"There are {len(orig_data)} rows in the deduplicated dataset.\")\n",
    "# There are some terms with occurrence as low as 1.\n",
    "print(sum(orig_data[\"terms\"].value_counts() == 1))\n",
    "# How many unique terms?\n",
    "print(orig_data[\"terms\"].nunique())\n",
    "# Filtering the rare terms.\n",
    "orig_data_filtered = orig_data.groupby(\"terms\").filter(lambda x: len(x) > 1)\n",
    "orig_data_filtered.shape\n",
    "\n",
    "# ================ Convert the string labels to lists of strings\n",
    "orig_data_filtered[\"terms\"] = orig_data_filtered[\"terms\"].apply(lambda x: literal_eval(x))\n",
    "orig_data_filtered[\"terms\"].values[:5]\n",
    "\n",
    "# ================ Use stratified splits because of class imbalance\n",
    "test_split = 0.4\n",
    "# Initial train and test split.\n",
    "train_df, test_df = train_test_split(\n",
    "    orig_data_filtered,\n",
    "    test_size=test_split,\n",
    "    stratify=orig_data_filtered[\"terms\"].values,\n",
    ")\n",
    "# Splitting the test set further into validation\n",
    "# and new test sets.\n",
    "val_df = test_df.sample(frac=0.5)\n",
    "test_df.drop(val_df.index, inplace=True)\n",
    "print(f\"Number of rows in training set: {len(train_df)}\")\n",
    "print(f\"Number of rows in validation set: {len(val_df)}\")\n",
    "print(f\"Number of rows in test set: {len(test_df)}\")"
   ]
  },
  {
   "cell_type": "code",
   "execution_count": 605,
   "id": "05cc04e1",
   "metadata": {},
   "outputs": [
    {
     "name": "stdout",
     "output_type": "stream",
     "text": [
      "Vocabulary:\n",
      "\n",
      "['[UNK]', 'culture', 'business', 'design', 'TEDx', 'global issues', 'entertainment', 'art', 'cities', 'brain', 'technology', 'creativity', 'activism', 'communication', 'collaboration', 'architecture', 'computers', 'Africa', 'economics', 'health care', 'health', 'education', 'biology', 'science', 'music', 'climate change', 'biotech', 'TED Fellows', 'evolution', 'history', 'community', 'humor', 'future', 'disease', 'demo', 'animals', 'TED Prize', 'DNA', 'performance', 'medicine', 'environment', 'cognitive science', 'cancer', 'astronomy', 'aging', 'religion', 'neuroscience', 'innovation', 'exploration', 'engineering', 'data', 'consumerism', 'consciousness', 'AIDS', 'social change', 'politics', 'film', 'energy', 'Internet', 'personal growth', 'media', 'language', 'government', 'entrepreneur', 'crime', 'compassion', 'biodiversity', 'AI', 'storytelling', 'photography', 'medical research', 'industrial design', 'humanity', 'finance', 'feminism', 'depression', 'television', 'sustainability', 'spoken word', 'space', 'race', 'prison', 'poetry', 'physics', 'nan', 'military', 'memory', 'love', 'illness', 'happiness', 'genetics', 'family', 'disability', 'corruption', 'capitalism', 'bacteria', 'atheism', 'anthropology', 'algorithm', 'agriculture', 'Planets', 'Autism spectrum disorder', 'war', 'typography', 'transportation', 'sports', 'solar energy', 'social media', 'self', 'relationships', 'productivity', 'poverty', 'philosophy', 'philanthropy', 'parenting', 'paleontology', 'ocean', 'nature', 'motivation', 'math', 'marketing', 'magic', 'literature', 'leadership', 'law', 'invention', 'interview', 'insects', 'illusion', 'identity', 'flight', 'empathy', 'drones', 'driverless cars', 'dinosaurs', 'democracy', 'decision-making', 'death', 'dance', 'curiosity', 'comedy', 'china', 'botany', 'bees', 'Vaccines', 'String theory', 'Moon', 'Mission Blue', 'Middle East', 'Egypt', 'Buddhism', 'Big Bang', 'Asia']\n",
      "Original label: ['activism', 'culture', 'global issues']\n",
      "Label-binarized representation: [[0. 1. 0. 0. 0. 1. 0. 0. 0. 0. 0. 0. 1. 0. 0. 0. 0. 0. 0. 0. 0. 0. 0. 0.\n",
      "  0. 0. 0. 0. 0. 0. 0. 0. 0. 0. 0. 0. 0. 0. 0. 0. 0. 0. 0. 0. 0. 0. 0. 0.\n",
      "  0. 0. 0. 0. 0. 0. 0. 0. 0. 0. 0. 0. 0. 0. 0. 0. 0. 0. 0. 0. 0. 0. 0. 0.\n",
      "  0. 0. 0. 0. 0. 0. 0. 0. 0. 0. 0. 0. 0. 0. 0. 0. 0. 0. 0. 0. 0. 0. 0. 0.\n",
      "  0. 0. 0. 0. 0. 0. 0. 0. 0. 0. 0. 0. 0. 0. 0. 0. 0. 0. 0. 0. 0. 0. 0. 0.\n",
      "  0. 0. 0. 0. 0. 0. 0. 0. 0. 0. 0. 0. 0. 0. 0. 0. 0. 0. 0. 0. 0. 0. 0. 0.\n",
      "  0. 0. 0. 0. 0. 0. 0. 0. 0.]]\n"
     ]
    }
   ],
   "source": [
    "# ================ Multi-label binarization\n",
    "terms = tf.ragged.constant(train_df[\"terms\"].values)\n",
    "#terms = tf.ragged.constant(orig_data_filtered[\"terms\"].values)\n",
    "\n",
    "lookup = tf.keras.layers.StringLookup(output_mode=\"multi_hot\")\n",
    "lookup.adapt(terms)\n",
    "vocab = lookup.get_vocabulary()\n",
    "def invert_multi_hot(encoded_labels):\n",
    "    \"\"\"Reverse a single multi-hot encoded label to a tuple of vocab terms.\"\"\"\n",
    "    hot_indices = np.argwhere(encoded_labels == 1.0)[..., 0]\n",
    "    return np.take(vocab, hot_indices)\n",
    "print(\"Vocabulary:\\n\")\n",
    "print(vocab)\n",
    "sample_label = train_df[\"terms\"].iloc[0]\n",
    "print(f\"Original label: {sample_label}\")\n",
    "label_binarized = lookup([sample_label])\n",
    "print(f\"Label-binarized representation: {label_binarized}\")"
   ]
  },
  {
   "cell_type": "code",
   "execution_count": 606,
   "id": "430f5bb2",
   "metadata": {},
   "outputs": [
    {
     "data": {
      "text/plain": [
       "count     409.000000\n",
       "mean     2214.721271\n",
       "std      1034.236877\n",
       "min        74.000000\n",
       "25%      1519.000000\n",
       "50%      2322.000000\n",
       "75%      2921.000000\n",
       "max      5855.000000\n",
       "Name: summaries, dtype: float64"
      ]
     },
     "execution_count": 606,
     "metadata": {},
     "output_type": "execute_result"
    }
   ],
   "source": [
    "# ================ Data preprocessing and tf.data.Dataset objects\n",
    "train_df[\"summaries\"].apply(lambda x: len(x.split(\" \"))).describe()\n"
   ]
  },
  {
   "cell_type": "code",
   "execution_count": 607,
   "id": "3e3523be",
   "metadata": {},
   "outputs": [],
   "source": [
    "max_seqlen = 2200\n",
    "batch_size = 128\n",
    "padding_token = \"<pad>\"\n",
    "auto = tf.data.AUTOTUNE\n",
    "\n",
    "def unify_text_length(text, label):\n",
    "    # Split the given abstract and calculate its length.\n",
    "    word_splits = tf.strings.split(text, sep=\" \")\n",
    "    sequence_length = tf.shape(word_splits)[0]\n",
    "\n",
    "    # Calculate the padding amount.\n",
    "    padding_amount = max_seqlen - sequence_length\n",
    "\n",
    "    # Check if we need to pad or truncate.\n",
    "    if padding_amount > 0:\n",
    "        unified_text = tf.pad([text], [[0, padding_amount]], constant_values=\"<pad>\")\n",
    "        unified_text = tf.strings.reduce_join(unified_text, separator=\"\")\n",
    "    else:\n",
    "        unified_text = tf.strings.reduce_join(word_splits[:max_seqlen], separator=\" \")\n",
    "\n",
    "    # The expansion is needed for subsequent vectorization.\n",
    "    return tf.expand_dims(unified_text, -1), label\n",
    "\n",
    "def make_dataset(dataframe, is_train=True):\n",
    "    labels = tf.ragged.constant(dataframe[\"terms\"].values)\n",
    "    label_binarized = lookup(labels).numpy()\n",
    "    dataset = tf.data.Dataset.from_tensor_slices(\n",
    "        (dataframe[\"summaries\"].values, label_binarized)\n",
    "    )\n",
    "    dataset = dataset.shuffle(batch_size * 10) if is_train else dataset\n",
    "    dataset = dataset.map(unify_text_length, num_parallel_calls=auto).cache()\n",
    "    return dataset.batch(batch_size)\n",
    "\n",
    "# prepare the tf.data.Dataset objects\n",
    "train_dataset = make_dataset(train_df, is_train=True)\n",
    "validation_dataset = make_dataset(val_df, is_train=False)\n",
    "test_dataset = make_dataset(test_df, is_train=False)"
   ]
  },
  {
   "cell_type": "code",
   "execution_count": 608,
   "id": "9e92523a",
   "metadata": {},
   "outputs": [
    {
     "name": "stdout",
     "output_type": "stream",
     "text": [
      "Abstract: b'make a legal and spiritual decision to spend the rest of their lives together. and not to have sex with anyone else. else. ever he buys a ring she buys a dress. they go shopping for all sorts of things she takes him to arthur murray for ballroom dancing lessons. and the big day comes and they ll stand before god and family and some guy her dad once did business with and they ll vow that nothing. not abject poverty not life threatening illness not complete. and utter misery will ever put the tiniest damper on their eternal love and devotion. these optimistic young bastards promise to honor and cherish each other through. hot flashes and midlife crises and a cumulative. 50 pound weight gain until that. when one of them. is finally able to rest in peace you. know because they can t hear the snoring anymore. and then they ll get stupid drunk and smash cake in each other s faces and do the macarena and we ll be there  showering them with towels and toasters and drinking their free booze and throwing. birdseed at them every single time. even though we know  statistically  half of them will be divorced within a decade. of course the other half won t right  they ll keep forgetting anniversaries and arguing about where to spend holidays and debating. which way the toilet paper. should come off of the roll and. some of them will even still be enjoying each other s company when neither of them can chew solid food anymore. and researchers want to know why  i mean look it doesn t take a. study to figure out what makes a marriage not. too much time on facebook having sex with other people but you can have the exact opposite of all of those things respect. excitement. a broken internet connection. monogamy and the thing still can go to hell in a handbasket  so  what s. what do the folks who make it all the way to side by side burial plots have in common what are they doing right  what can we learn from them. and if you re still happily sleeping solo  why should you stop what you re doing and make it your life s work to find that one special person that you can annoy for the rest. researchers spend billions of your tax dollars trying to figure that out. they stalk blissful couples and study their every move and mannerism  and they try to pinpoint what it is that sets them apart from their miserable neighbors and friends. and it turns out the success stories share a few similarities beyond that they don t have sex with other people. for instance in the happiest marriages. wife is thinner and better looking than the husband obvious right it s obvious that this leads to marital bliss because women. we care a great deal about being thin and good looking whereas men mostly care about sex. ideally with women who are thinner and better looking than they are. the beauty of this research though is that no one is suggesting that women have to be thin to be happy we just have to be thinner than our partners. so instead of all that laborious dieting and exercising  we just need to wait for them to get fat. maybe bake a few pies this is good information to have and it s not that complicated. research also suggests that the happiest couples are the ones that focus on the positives. for example the happy wife instead of pointing out her husband s growing gut or suggesting he go for a run she might say. wow honey  thank you for going out of your way to make me relatively thinner. these are couples who can find good in any situation yeah  it was devastating when we lost everything in that fire. but it s kind of nice sleeping out here under the stars. and it s a good thing you ve got all that body fat to keep us warm. one of my favorite studies found that the more willing a husband is to do housework  the more attractive his wife will find him. because we needed a study to tell us this. laughter but here s what s going on here  the more attractive she finds him the more sex they have the more sex they have the nicer he is to her the. nicer he is to her  the less she nags him about leaving wet towels on the bed and ultimately they live happily ever after. in other words  men you might want to pick it up a notch in the domestic department. here s an interesting one one study found that people who smile in childhood photographs. are less likely to get a divorce this is an actual study. and let me clarify  the researchers were not looking at documented self reports of childhood happiness or even studying old journals the data were based entirely on whether people looked happy in these early pictures. now  i don t know how old all of you are but when i was a kid your parents took. they didn t take three hundred shots of you in that rapid fire digital video mode and then pick out the nicest smiliest one for the christmas card. no they dressed you up they lined you up and you smiled for the fucking camera like they told you to or you could kiss your birthday. i have a huge pile of fake happy childhood pictures and. i m glad they make me less likely than some people to get a divorce. so what else can you do to safeguard your marriage do not win an oscar for best actress. i m serious  bettie davis joan crawford  halle berry hilary swank sandra bullock. reese witherspoon all of them single soon after taking home that statue they actually call it the oscar curse it is the marriage kiss of death and something that should be avoided. and it s not just successfully starring in films that s dangerous it turns out merely watching a romantic comedy causes relationship satisfaction to plummet. laughter apparently. bitter realization that maybe it could happen to us but it obviously hasn t and it probably never will makes our lives seem unbearably grim in comparison. and theoretically  i suppose if we opt for a film where someone gets brutally murdered or dies in a fiery car crash. we are more likely to walk out of that theater feeling like we ve got it pretty good. i can t tell you anymore about that one because i stopped reading it at the headline  but here s a scary one divorce is contagious that. s right when you have a close couple friend split up it increases your chances of getting a divorce by. percent now  i have to say i don t get this one at all my husband and i have watched quite a few friends. divide their assets. and then struggle with being our age and single in an age of sexting and viagra and eharmony and. i m thinking they ve done more for my marriage than a lifetime of therapy ever could  so now you may be wondering why does anyone. the us federal government counts more than a thousand legal benefits to being someone s spouse. a list that includes visitation rights in jail but hopefully you ll never need that one. but beyond the profound federal perks married people make more money we. re healthier  physically and emotionally we produce happier more stable and more successful kids. we have more sex than our supposedly swinging single friends believe it or not. we even live longer  which is a pretty compelling argument for marrying someone you like a lot in the first place. laughter now if you re not currently experiencing the joy of the joint tax return  i can t tell you how to find. of the approximately ideal size and attractiveness who prefers horror movies and doesn t have a lot of friends hovering on the brink of divorce. but i can only encourage you to try because the benefits as i ve pointed out. are significant the. bottom line is whether you re in it or you re searching for it i believe marriage is an institution worth pursuing. so i hope you ll use the information i ve given you today to weigh your personal strengths against your own risk factors. for instance in my marriage  i d say i m doing ok. one the one hand  i have a husband who s annoyingly lean and incredibly handsome  so i m obviously going to need fatten him up. and like i said we have those divorced friends who may secretly or subconsciously be trying to break us up  so we have to keep an eye. on that and we do like a cocktail or two on the other hand. i have the fake happy picture thing. and also my husband does a lot around the house and would happily never see another romantic comedy as long as he lives so i ve got all those things going for me. i plan to work extra hard to not win an oscar anytime soon and for the good of your relationships i would encourage you to do the same i ll. see you at the bar<pad><pad><pad><pad><pad><pad><pad><pad><pad><pad><pad><pad><pad><pad><pad><pad><pad><pad><pad><pad><pad><pad><pad><pad><pad><pad><pad><pad><pad><pad><pad><pad><pad><pad><pad><pad><pad><pad><pad><pad><pad><pad><pad><pad><pad><pad><pad><pad><pad><pad><pad><pad><pad><pad><pad><pad><pad><pad><pad><pad><pad><pad><pad><pad><pad><pad><pad><pad><pad><pad><pad><pad><pad><pad><pad><pad><pad><pad><pad><pad><pad><pad><pad><pad><pad><pad><pad><pad><pad><pad><pad><pad><pad><pad><pad><pad><pad><pad><pad><pad><pad><pad><pad><pad><pad><pad><pad><pad><pad><pad><pad><pad><pad><pad><pad><pad><pad><pad><pad><pad><pad><pad><pad><pad><pad><pad><pad><pad><pad><pad><pad><pad><pad><pad><pad><pad><pad><pad><pad><pad><pad><pad><pad><pad><pad><pad><pad><pad><pad><pad><pad><pad><pad><pad><pad><pad><pad><pad><pad><pad><pad><pad><pad><pad><pad><pad><pad><pad><pad><pad><pad><pad><pad><pad><pad><pad><pad><pad><pad><pad><pad><pad><pad><pad><pad><pad><pad><pad><pad><pad><pad><pad><pad><pad><pad><pad><pad><pad><pad><pad><pad><pad><pad><pad><pad><pad><pad><pad><pad><pad><pad><pad><pad><pad><pad><pad><pad><pad><pad><pad><pad><pad><pad><pad><pad><pad><pad><pad><pad><pad><pad><pad><pad><pad><pad><pad><pad><pad><pad><pad><pad><pad><pad><pad><pad><pad><pad><pad><pad><pad><pad><pad><pad><pad><pad><pad><pad><pad><pad><pad><pad><pad><pad><pad><pad><pad><pad><pad><pad><pad><pad><pad><pad><pad><pad><pad><pad><pad><pad><pad><pad><pad><pad><pad><pad><pad><pad><pad><pad><pad><pad><pad><pad><pad><pad><pad><pad><pad><pad><pad><pad><pad><pad><pad><pad><pad><pad><pad><pad><pad><pad><pad><pad><pad><pad><pad><pad><pad><pad><pad><pad><pad><pad><pad><pad><pad><pad><pad><pad><pad><pad><pad><pad><pad><pad><pad><pad><pad><pad><pad><pad><pad><pad><pad><pad><pad><pad><pad><pad><pad><pad><pad><pad><pad><pad><pad><pad><pad><pad><pad><pad><pad><pad><pad><pad><pad><pad><pad><pad><pad><pad><pad><pad><pad><pad><pad><pad><pad><pad><pad><pad><pad><pad><pad><pad><pad><pad><pad><pad><pad><pad><pad><pad><pad><pad><pad><pad><pad><pad><pad><pad><pad><pad><pad><pad><pad><pad><pad><pad><pad><pad><pad><pad><pad><pad><pad><pad><pad><pad><pad><pad><pad><pad><pad><pad><pad><pad><pad><pad><pad><pad><pad><pad><pad><pad><pad><pad><pad><pad><pad><pad><pad><pad><pad><pad><pad><pad><pad><pad><pad><pad><pad><pad><pad><pad><pad><pad><pad><pad><pad><pad><pad><pad><pad><pad><pad><pad><pad><pad><pad><pad><pad><pad><pad><pad><pad><pad><pad><pad><pad><pad><pad><pad><pad><pad><pad><pad><pad><pad><pad><pad><pad><pad><pad><pad><pad><pad><pad><pad><pad><pad><pad><pad><pad><pad><pad><pad><pad><pad><pad><pad><pad><pad><pad><pad><pad><pad><pad><pad><pad><pad><pad><pad><pad><pad><pad><pad><pad><pad><pad><pad><pad><pad><pad><pad><pad><pad><pad><pad><pad><pad><pad><pad><pad><pad><pad><pad><pad><pad><pad><pad><pad><pad><pad><pad><pad><pad><pad><pad><pad><pad><pad><pad><pad><pad><pad><pad><pad><pad><pad><pad><pad><pad><pad><pad><pad><pad><pad><pad><pad><pad><pad><pad>'\n",
      "Label(s): ['culture' 'TEDx' 'humor']\n",
      " \n",
      "Abstract: b'reality today. that you can download products from the web product data i should say from the web. perhaps tweak it and personalize it to your own preference or your own taste and have that information. sent to a desktop machine. that will fabricate it for you on the spot  we can actually build for you very rapidly a physical object. and the reason we can do this is through an emerging technology called additive manufacturing or 3d printing. this is a 3d printer. they have been around for almost thirty years now which is quite amazing to think of but. they re only just starting to filter into the public arena. and typically you would take data like the data of a pen here  which would be a geometric representation of that product in 3d. and we would pass that data with material into a machine and a process that would happen in the machine would mean layer by layer that. product would be built  and we can take out the physical product and ready to use or to perhaps assemble into something else. but if these machines have been around for almost thirty years why don t we know about them. because typically they ve been. too inefficient  inaccessible they ve not been fast enough they ve been quite expensive but today. becoming a reality that they are now becoming successful many barriers are breaking down that means that you guys will soon be able to access one of these machines if not this minute. and it will change and disrupt the landscape of manufacturing and most certainly our lives our businesses and the lives of our children. so how does it work. it typically reads cad data  which is a product design data created on professional product design programs and here you can see an engineer it could be an architect or it could be a professional product designer. create a product in 3d and this data gets sent to a machine that slices the data into. of that product. all the way through almost like slicing it like salami. and that data layer by layer gets passed through the machine starting at the base of the product and depositing material layer upon layer infusing the new layer of materials to the old layer. in an additive process  and this material that s deposited either starts as a liquid. material powder form. and the bonding process can happen by either melting and depositing or depositing then melting in this case we can see a laser sintering machine developed by eos it s actually using a laser to fuse the new layer of material to the old layer. and over time quite rapidly actually in a number of hours we can build a physical product ready to take out of the machine and use. and this is quite an extraordinary idea  but it is reality today. so all these products that you can see on the screen were made in the same way  they were all 3d printed  and. you can see they re ranging from shoes  rings that were made out of stainless steal  phone covers out of plastic. all the way through to spinal implants for example. ll notice about all of these products is they re very very intricate the design is. quite extraordinary. because we re taking this data in 3d form slicing it up before it gets past the machine we can actually create structures that are more. intricate than any other manufacturing technology or in. are impossible to build in any other way. and you can create parts with moving components hinges parts within parts so in some cases we can abolish totally the need for manual labor. it sounds great. it is great. we can have 3d printers today that build structures like these this is almost three meters high. and this was built by depositing artificial sandstone layer upon layer in layers of. about five millimeters to ten mm in thickness slowly growing this structure  this was created by an architectural firm called shiro. and you can actually walk into it. and on the other end of the spectrum this is a microstructure it s. created depositing layers of about four microns  so really the resolution is quite incredible the detail that you can get today. is quite amazing so who s using it typically because we can create products very rapidly. it s been used by product designers or anyone who wanted to prototype a product. and very quickly create or reiterate a design. and actually what s quite amazing about this technology as well is that you can create bespoke products en masse  there s very little economies. of scale  so you can now create one offs very easily. architects for example they want to create prototypes of buildings  again you can see this is a. building of the free university in berlin and it was designed by foster and partners. again not buildable in any other way and very hard to even create this by hand. now this is an. engine. component it was developed by a company called within technologies and  3t rpd. it s very very  very detailed inside with the design now 3d printing can break away barriers in design which challenge the constraints of mass production. actually sitting here you can see that it has a number of cooling channels pass through it. which means it s a more efficient product  you can t create this with standard manufacturing techniques even if you tried to do it manually. it s more efficient. because we can now create all these cavities within the object that cool fluid  and it s used by aerospace. and automotive  it s a lighter part. and. uses less material waste so it s overall performance and efficiency. just exceeds standard mass produced products. and then taking this idea of creating a very detailed structure we can apply it to honeycomb structures and use them within. implants  typically an implant is. more effective within the body if it s more porous because our body tissue will grow into it. there s a lower chance of rejection. but it s very hard to create that in standard ways with 3d printing. we re seeing today that we can create much better implants  and in fact because we can create bespoke products en masse one offs we can create implants that are specific to individuals. so as you can see  this technology and the quality of what comes out of the machines is fantastic and we re starting to see it being used for final end products. and in fact  as the detail is improving the quality is improving the price of the machines. are falling and they re becoming quicker they re also now small enough to sit on a desktop  you can buy a machine today for. that you can create yourself. which is quite incredible  but then it begs the question  why don t we all have one in our home. because simply most of us here today don t know how to create the data that a 3d printer reads. if i gave you a 3d printer  you wouldn t know how to direct it to make what you want it to but there are more and more. technologies software and processes today that are breaking down those barriers  i believe we re at a tipping point where. this is now. something that we can t. avoid this technology is really going to disrupt the landscape of manufacturing and i believe cause a revolution in manufacturing. so today  you can download products from the web. anything you would have on your desktop. you can use software like google sketchup to create products from scratch very easily. 3d printing can be also used to download spare parts from the web. so imagine you have say a hoover in your home and it has broken down  you need a spare part but you realize that that hoover s been discontinued. can you imagine going online this is a reality. and finding that spare part from a database of geometries of that discontinued product and downloading that information that data and having the product. made for you at home  ready to use on your demand  and in fact because we can create spare parts with things the machines are quite literally making. you re having machines fabricate themselves these are parts of a reprap machine which is a kind of desktop printer. but what interests my company the most is the fact that you can create individual unique products en masse. there s no need to do a run of thousands of millions or send that product to be injection molded in china you can just make it physically on the spot. which means that we can now present to the public. the next generation of customization this is something that is now possible today that you can direct personally how you want your products to look we. re all familiar with the idea of customization or personalization brands like nike are doing it it s all over the web in fact every major household name is allowing you to interact with their products. on a daily basis all the way from smart cars to prada. to ray ban for example  but this is not really mass customization it s known as variant production variations of the same product. what you could do is really influence your product now. i m not sure about you guys but i ve had experiences when i ve walked into a store and i ve know exactly what i ve wanted and i ve searched everywhere for that perfect lamp that i know where i want to sit in my house. and i just can t find the right thing or that perfect piece of jewelry. as a gift or for myself imagine that you can now engage with a brand. and. so that you can pass your personal attributes to the products that you re about to buy. you can today download a product with software like this. view the product in 3d this is the sort of 3d data that a machine will read  this is a lamp and. you can start iterating the design you can direct. what color that product will. perhaps what material. and also you can engage in shape manipulation of that product but within boundaries that are safe because obviously the public are not professional product designers the piece of software will keep an individual within the bounds of the possible. and when somebody is ready to purchase the product in their personalized design they click enter and this data gets converted into the data that a 3d printer reads. and gets passed to. perhaps on someone s desktop. but i don t think that that s immediate i don t think that will happen soon what s more likely and we re seeing it today is that that data gets sent. to a local manufacturing center  this means lower carbon footprint  we re now instead of shipping a. data across the internet here s the product being built. you can see  this came out of the machine in one piece and the electronics were inserted later it s this lamp as you can see here. so as long as you have the data you can create the part on demand. and you don t necessarily need to use this for just aesthetic customization  you can use it for functional customization scanning parts of the body and creating. things that are made to fit so we can run this through to something like prosthetics which is highly specialized to an individual s handicap. or we can create very specific. prosthetics for that individual. scanning teeth today  you can have your teeth scanned and dental coatings made in this way to fit you. while you wait at the dentist a machine will quietly be creating this for you ready to insert in the teeth. and the idea of now creating implants. scanning data an mri scan of somebody can now be converted into 3d data and we can create very specific implants. for them. and applying this to the idea of building up what s in our bodies you. know this is pair of lungs and the bronchial tree it s very intricate you couldn t really create this or simulate it in any. but with mri data we can just build the product as you can see very intricately. using this process pioneers in the industry are layering up cells today so one of the pioneers for example is dr anthony atala. and he has been working on layering cells to create body parts. bladders  valves kidneys now this is not. something that s ready for'\n",
      "Label(s): ['business' 'design' 'technology']\n",
      " \n",
      "Abstract: b'i ve got a great idea that s going to change the world  it s fantastic it s going to blow your mind. it s my beautiful baby here s the thing  everybody loves a beautiful baby i mean i was a beautiful baby. here s me and my dad a couple days after i was born  so in the world of product design the beautiful baby s like the concept car. it s the knockout  you see it and you go oh my god i d buy that in a second. so why is it that this year s new cars look pretty much exactly like last year s new cars. what went wrong between the design studio and the factory today  i don t want to talk about beautiful babies i want to talk about the awkward adolescence of design. those sort of. dorky teenage years where you re trying to figure out how the world works i m. going to start with an example from some work that we did on newborn health  so here s a problem  four million babies. around the world mostly in developing countries. die every year before their first birthday even before their first month of life  it turns out half of those kids or about one point eight million newborns around the world would make it. if you could just keep them warm for the first three days. maybe the first week  so this is a newborn intensive care unit in kathmandu nepal all of these kids in blankets belong in incubators something like this. this is a donated japanese atom incubator that we found in a nicu in kathmandu. this is what we want probably what happened is a hospital in japan upgraded their equipment and donated their old stuff to. to nepal the problem is. technicians  without spare parts donations like this very quickly turn into junk. so this seemed like a problem that we could do something about  keeping a baby warm for a week that. s not rocket science  so. we got started we partnered with a leading medical research institution here in boston. we conducted months of user research overseas trying to think like designers human centered design let s figure. out what people want. we killed thousands of post it notes  we made dozens of prototypes to get to this. so this is the neonurture infant incubator and this has a lot of smarts built into it and we felt great so the idea here is unlike the concept car we want to marry something beautiful with something that. and our idea is that this design would inspire manufacturers and other people of influence to take this model and run with it. here s the bad news. the only baby ever actually put inside the neonurture incubator. was this kid during a time magazine photo shoot. so recognition is fantastic  we want design to get out for people to see it it won lots of awards. but it felt like a booby prize. we wanted to make beautiful things that are going to make the world a better place. and i don t think this kid was even in it long enough to get warm so it turns out that design for inspiration. doesn doesn t really  i guess what i would say is for us for what i want to do  it s either too slow. or it just doesn t work it s ineffective so really. i want to design for outcomes i don t want to make beautiful stuff i want to make the world a better place. so when we were designing neonurture we paid a lot of attention to the people who are going to use this thing for example poor families  rural doctors overloaded nurses. even repair technicians  we thought we had all our bases covered we d done everything right well it turns out there s this whole constellation of people who have to be involved in a product for it to be successful manufacturing. distribution regulation. michael free at path says you have to figure out who will choose use and pay the dues for a product like this and i have to ask the question that. vcs always ask sir what is your business and who is your customer who is our customer. well here s an example this is a bangladeshi hospital director. outside his facility it turns out he doesn t buy any of his equipment those decisions are made by the ministry of health. or by foreign donors and it just kind of shows up  similarly here s a multinational. turns out they ve got to fish where the fish are. so it turns out that in emerging markets where the fish are are the emerging middle class of these countries diseases of affluence heart disease infertility. turns out that design for outcomes. in one aspect really means thinking about design for manufacture and distribution  ok that was an important lesson second. we took that lesson and tried to push it into our next project so we started by finding a manufacturer an organization called mtts in vietnam. that manufactures newborn care technologies for southeast asia  our other partner is east meets west an american foundation that distributes that technology to poor hospitals. around that region. we started with them saying well what do you want what s a problem you want to solve and they said let s work on newborn jaundice. so this is another one of these  mind boggling global problems jaundice affects two thirds of newborns. around the world. of those newborns one in ten roughly  if it s not treated the jaundice gets so severe that it leads to either. even die there. s one way to treat jaundice  and that s what s called an exchange transfusion so as you can imagine that s expensive and a little bit dangerous. there is another cure  it s very. technological it s very complex a little daunting you ve got to shine blue light on the kid. bright blue light on as much of the skin as you can cover. how is this a hard problem. i went to mit  ok we ll figure that out. laughter so here s an example this is an overhead phototherapy device that s designed for american hospitals  and here s how it s supposed to be used it s. over the baby  illuminating a single patient take it out of an american hospital send it overseas to a crowded facility in asia here s how. actually used the effectiveness of phototherapy is a function of light intensity these dark blue squares show you where it s effective phototherapy. here s what it looks like under actual use  so those kids on the edges aren t actually receiving effective phototherapy but without training. without some kind of light meter how would you know. we see other examples of problems like this here s a neonatal intensive care unit where moms come in to visit their babies. keep in mind that mom maybe just had a c section so that s already kind of a bummer. mom s visiting her kid she sees her baby naked lying under some blue lights looking kind of vulnerable. it s not uncommon for mom to put a blanket over the baby. from a phototherapy standpoint  maybe not the best behavior in fact that sounds. what we ve learned is that there s no such thing as a dumb user. there are only dumb products  we have to think like existentialists it s not the painting we would have painted  it s the painting that we actually painted  it s the use. designed for actual use how are people actually going to use this. so  similarly  when we think about our partner mtts they ve made some amazing technologies for treating newborn illnesses so here s an overhead warmer and a cpap. really rugged they ve treated fifty thousand kids in vietnam with this technology but here s the problem. every doctor in the world every hospital administrator has seen tv curse those er reruns. turns out they all know what a medical device is supposed to look like they want buck rogers they don t want. it sounds crazy it sounds dumb but there are actually hospitals who would rather have no equipment than something that looks cheap and crummy. so again  if we want people to trust a device it has to look trustworthy so thinking about outcomes it turns out appearances matter. we took all that information together we tried this time to get it right  and here s what we developed this is the firefly phototherapy device. except this time  we didn t stop at the concept car. from the very beginning we started by talking to manufacturers  our goal is to make a state of the art product that our partner mtts can actually manufacture our goal is. to study how they work the resources they have access to so that they can make this product so. single bassinet it only fits a single baby  and the idea here is it s obvious how you ought to use this device if you try to put more than one kid in you re stacking them on top of each other. so. the idea here is you want to make it hard to use wrong in other words you want to make the right way to use it the easiest way to use it another example. again  silly mom  silly mom thinks her baby looks cold wants to put a blanket over the baby that s why we have lights above and below the baby in firefly so if mom. does put a blanket over the baby it s still receiving effective phototherapy from below. last story here. i ve got a friend in india who told me that you haven t really tested a piece of electronic technology for distribution in in asia  until you ve trained a cockroach to climb in and pee on every single little component on the inside you think. it s funny  i had a laptop in the peace corps and. had all these dead pixels on it and one day i looked in they were all dead ants that had gotten into my laptop and perished those poor ants. so with firefly what we did is the problem is electronics get hot. and you have to put in vents or fans to keep them cool in most products. we decided we can t put a do not enter sign next to the vent we actually got rid of all that stuff so firefly s totally sealed. these are the kinds of lessons as awkward as it was to be a pretty goofy teenager. much worse to be a frustrated designer so i was thinking what i really want to do is change the world  i have to pay attention to manufacturing and distribution  i have to pay attention to how people are actually going to use a device. i actually have to pay attention there s no excuse for failure i have to think like an existentialist i have to accept that there are no dumb users only dumb products. to ask ourselves hard questions are we designing for the world that we want. are we designing for the world that we have are we designing for the world that s coming whether we re ready or not i got into this business. designing products  i ve since learned that if you really want to make a difference in the world you have to design outcomes  and that s design that matters  thank you<pad><pad><pad><pad><pad><pad><pad><pad><pad><pad><pad><pad><pad><pad><pad><pad><pad><pad><pad><pad><pad><pad><pad><pad><pad><pad><pad><pad><pad><pad><pad><pad><pad><pad><pad><pad><pad><pad><pad><pad><pad><pad><pad><pad><pad><pad><pad><pad><pad><pad><pad><pad><pad><pad><pad><pad><pad><pad><pad><pad><pad><pad><pad><pad><pad><pad><pad><pad><pad><pad><pad><pad><pad><pad><pad><pad><pad><pad><pad><pad><pad><pad><pad><pad><pad><pad><pad><pad><pad><pad><pad><pad><pad><pad><pad><pad><pad><pad><pad><pad><pad><pad><pad><pad><pad><pad><pad><pad><pad><pad><pad><pad><pad><pad><pad><pad><pad><pad><pad><pad><pad><pad><pad><pad><pad><pad><pad><pad><pad><pad><pad><pad><pad><pad><pad><pad><pad><pad><pad><pad><pad><pad><pad><pad><pad><pad><pad><pad><pad><pad><pad><pad><pad><pad><pad><pad><pad><pad><pad><pad><pad><pad><pad><pad><pad><pad><pad><pad><pad><pad><pad><pad><pad><pad><pad><pad><pad><pad><pad><pad><pad><pad><pad><pad><pad>'\n",
      "Label(s): ['design' 'TEDx' 'health care']\n",
      " \n",
      "Abstract: b'two years ago i was invited as an artist to participate in an exhibition commemorating one hundred years of islamic art in europe. the curator had only one condition i had to use the arabic script for my artwork. now as an artist a woman an arab. or a human being living in the world in two thousand and ten  i only had one thing to say  i wanted to say no. and in arabic to say no we say no  and a thousand times no. so i decided to look for a thousand different noes. on everything ever produced under islamic or arab patronage in the past one thousand four hundred years from spain. spain to the borders of china. i collected my findings in a book placed them chronologically  stating the name the patron the medium and the date. now the book sat on a small shelf next to the installation which stood three by seven meters in munich germany in september of two thousand and ten. two thousand and eleven the revolution started and life stopped for eighteen days. and on the 12th of february we naively celebrated on the streets of cairo  believing. that the revolution had succeeded  nine months later i found myself spraying messages in tahrir square. the reason for this act was this image. that i saw in my. newsfeed  i did not feel that i could live in a city. where people were being killed and thrown like garbage on the street. so i took one no off a tombstone from the islamic museum in cairo  and i added a message to it. no to military rule and i started spraying that on the streets in cairo  but that led to a series of no coming out of the book like ammunition. and adding. messages to them and i started spraying them on the walls. so i ll be sharing some of these noes with you  no to a new pharaoh because whoever comes next should understand that we will never be ruled by another dictator. no to violence  ramy essam came. to tahrir on the second day of the revolution and he sat there with this. one month after mubarak stepped down this was his reward  no to blinding heroes. ahmed harara lost his right eye on the 28th of january. and he lost his left eye on the 19th of november by two different snipers. no to killing in this case no to killing men of religion because sheikh ahmed adina refaat. was shot on december. behind. three orphans and a widow. no to burning books the institute of egypt was burned on december 17th a huge cultural loss  no. to stripping the people  and the blue bra is to remind us of our shame. as a nation when we allow a veiled woman to be stripped and beaten on the street  and the footprint reads. long live a peaceful revolution because we will never retaliate with violence  no to barrier walls  on february 5th. concrete. roadblocks were set up in cairo to. protect the ministry of defense from protesters  now speaking of walls. i want to share with you the story of one wall in cairo a group of artists decided. to paint a life size tank on a wall it s one to one. in front of this tank there s a man on a bicycle with a breadbasket on his head. to any passerby there s no problem with this visual. after acts of violence  another artist came painted blood protesters being run over by the tank. message that read starting tomorrow i wear the new face the face of every martyr  i exist. authority comes. paints the wall white  leaves the tank and adds a message army and people one hand egypt for egyptians. another. the head of the military as a monster eating a maiden in a river of blood in front of the tank. authority comes  paints the wall white  leaves the tank  leaves the suit  and throws a bucket of black paint just to hide the face of the monster. so i come with my stencils  and i spray them on the suit on the tank and on the whole wall  and this is how it stands. with a final no  i found neruda scribbled on a piece of paper in a field hospital in tahrir. and i decided to take a no of mamluk mausoleum in cairo  the message reads. you can crush the flowers but you can t delay spring<pad><pad><pad><pad><pad><pad><pad><pad><pad><pad><pad><pad><pad><pad><pad><pad><pad><pad><pad><pad><pad><pad><pad><pad><pad><pad><pad><pad><pad><pad><pad><pad><pad><pad><pad><pad><pad><pad><pad><pad><pad><pad><pad><pad><pad><pad><pad><pad><pad><pad><pad><pad><pad><pad><pad><pad><pad><pad><pad><pad><pad><pad><pad><pad><pad><pad><pad><pad><pad><pad><pad><pad><pad><pad><pad><pad><pad><pad><pad><pad><pad><pad><pad><pad><pad><pad><pad><pad><pad><pad><pad><pad><pad><pad><pad><pad><pad><pad><pad><pad><pad><pad><pad><pad><pad><pad><pad><pad><pad><pad><pad><pad><pad><pad><pad><pad><pad><pad><pad><pad><pad><pad><pad><pad><pad><pad><pad><pad><pad><pad><pad><pad><pad><pad><pad><pad><pad><pad><pad><pad><pad><pad><pad><pad><pad><pad><pad><pad><pad><pad><pad><pad><pad><pad><pad><pad><pad><pad><pad><pad><pad><pad><pad><pad><pad><pad><pad><pad><pad><pad><pad><pad><pad><pad><pad><pad><pad><pad><pad><pad><pad><pad><pad><pad><pad><pad><pad><pad><pad><pad><pad><pad><pad><pad><pad><pad><pad><pad><pad><pad><pad><pad><pad><pad><pad><pad><pad><pad><pad><pad><pad><pad><pad><pad><pad><pad><pad><pad><pad><pad><pad><pad><pad><pad><pad><pad><pad><pad><pad><pad><pad><pad><pad><pad><pad><pad><pad><pad><pad><pad><pad><pad><pad><pad><pad><pad><pad><pad><pad><pad><pad><pad><pad><pad><pad><pad><pad><pad><pad><pad><pad><pad><pad><pad><pad><pad><pad><pad><pad><pad><pad><pad><pad><pad><pad><pad><pad><pad><pad><pad><pad><pad><pad><pad><pad><pad><pad><pad><pad><pad><pad><pad><pad><pad><pad><pad><pad><pad><pad><pad><pad><pad><pad><pad><pad><pad><pad><pad><pad><pad><pad><pad><pad><pad><pad><pad><pad><pad><pad><pad><pad><pad><pad><pad><pad><pad><pad><pad><pad><pad><pad><pad><pad><pad><pad><pad><pad><pad><pad><pad><pad><pad><pad><pad><pad><pad><pad><pad><pad><pad><pad><pad><pad><pad><pad><pad><pad><pad><pad><pad><pad><pad><pad><pad><pad><pad><pad><pad><pad><pad><pad><pad><pad><pad><pad><pad><pad><pad><pad><pad><pad><pad><pad><pad><pad><pad><pad><pad><pad><pad><pad><pad><pad><pad><pad><pad><pad><pad><pad><pad><pad><pad><pad><pad><pad><pad><pad><pad><pad><pad><pad><pad><pad><pad><pad><pad><pad><pad><pad><pad><pad><pad><pad><pad><pad><pad><pad><pad><pad><pad><pad><pad><pad><pad><pad><pad><pad><pad><pad><pad><pad><pad><pad><pad><pad><pad><pad><pad><pad><pad><pad><pad><pad><pad><pad><pad><pad><pad><pad><pad><pad><pad><pad><pad><pad><pad><pad><pad><pad><pad><pad><pad><pad><pad><pad><pad><pad><pad><pad><pad><pad><pad><pad><pad><pad><pad><pad><pad><pad><pad><pad><pad><pad><pad><pad><pad><pad><pad><pad><pad><pad><pad><pad><pad><pad><pad><pad><pad><pad><pad><pad><pad><pad><pad><pad><pad><pad><pad><pad><pad><pad><pad><pad><pad><pad><pad><pad><pad><pad><pad><pad><pad><pad><pad><pad><pad><pad><pad><pad><pad><pad><pad><pad><pad><pad><pad><pad><pad><pad><pad><pad><pad><pad><pad><pad><pad><pad><pad><pad><pad><pad><pad><pad><pad><pad><pad><pad><pad><pad><pad><pad><pad><pad><pad><pad><pad><pad><pad><pad><pad><pad><pad><pad><pad><pad><pad><pad><pad><pad><pad><pad><pad><pad><pad><pad><pad><pad><pad><pad><pad><pad><pad><pad><pad><pad><pad><pad><pad><pad><pad><pad><pad><pad><pad><pad><pad><pad><pad><pad><pad><pad><pad><pad><pad><pad><pad><pad><pad><pad><pad><pad><pad><pad><pad><pad><pad><pad><pad><pad><pad><pad><pad><pad><pad><pad><pad><pad><pad><pad><pad><pad><pad><pad><pad><pad><pad><pad><pad><pad><pad><pad><pad><pad><pad><pad><pad><pad><pad><pad><pad><pad><pad><pad><pad><pad><pad><pad><pad><pad><pad><pad><pad><pad><pad><pad><pad><pad><pad><pad><pad><pad><pad><pad><pad><pad><pad><pad><pad><pad><pad><pad><pad><pad><pad><pad><pad><pad><pad><pad><pad><pad><pad><pad><pad><pad><pad><pad><pad><pad><pad><pad><pad><pad><pad><pad><pad><pad><pad><pad><pad><pad><pad><pad><pad><pad><pad><pad><pad><pad><pad><pad><pad><pad><pad><pad><pad><pad><pad><pad><pad><pad><pad><pad><pad><pad><pad><pad><pad><pad><pad><pad><pad><pad><pad><pad><pad><pad><pad><pad><pad><pad><pad><pad><pad><pad><pad><pad><pad><pad><pad><pad><pad><pad><pad><pad><pad><pad><pad><pad><pad><pad><pad><pad><pad><pad><pad><pad><pad><pad><pad><pad><pad><pad><pad><pad><pad><pad><pad><pad><pad><pad><pad><pad><pad><pad><pad><pad><pad><pad><pad><pad><pad><pad><pad><pad><pad><pad><pad><pad><pad><pad><pad><pad><pad><pad><pad><pad><pad><pad><pad><pad><pad><pad><pad><pad><pad><pad><pad><pad><pad><pad><pad><pad><pad><pad><pad><pad><pad><pad><pad><pad><pad><pad><pad><pad><pad><pad><pad><pad><pad><pad><pad><pad><pad><pad><pad><pad><pad><pad><pad><pad><pad><pad><pad><pad><pad><pad><pad><pad><pad><pad><pad><pad><pad><pad><pad><pad><pad><pad><pad><pad><pad><pad><pad><pad><pad><pad><pad><pad><pad><pad><pad><pad><pad><pad><pad><pad><pad><pad><pad><pad><pad><pad><pad><pad><pad><pad><pad><pad><pad><pad><pad><pad><pad><pad><pad><pad><pad><pad><pad><pad><pad><pad><pad><pad><pad><pad><pad><pad><pad><pad><pad><pad><pad><pad><pad><pad><pad><pad><pad><pad><pad><pad><pad><pad><pad><pad><pad><pad><pad><pad><pad><pad><pad><pad><pad><pad><pad><pad><pad><pad><pad><pad><pad><pad><pad><pad><pad><pad><pad><pad><pad><pad><pad><pad><pad><pad><pad><pad><pad><pad><pad><pad><pad><pad><pad><pad><pad><pad><pad><pad><pad><pad><pad><pad><pad><pad><pad><pad><pad><pad><pad><pad><pad><pad><pad><pad><pad><pad><pad><pad><pad><pad><pad><pad><pad><pad><pad><pad><pad><pad><pad><pad><pad><pad><pad><pad><pad><pad><pad><pad><pad><pad><pad><pad><pad><pad><pad><pad><pad><pad><pad><pad><pad><pad><pad><pad><pad><pad><pad><pad><pad><pad><pad><pad><pad><pad><pad><pad><pad><pad><pad><pad><pad><pad><pad><pad><pad><pad><pad><pad><pad><pad><pad><pad><pad><pad><pad><pad><pad><pad><pad><pad><pad><pad><pad><pad><pad><pad><pad><pad><pad><pad><pad><pad><pad><pad><pad><pad><pad><pad><pad><pad><pad><pad><pad><pad><pad><pad><pad><pad><pad><pad><pad><pad><pad><pad><pad><pad><pad><pad><pad><pad><pad><pad><pad><pad><pad><pad><pad><pad><pad><pad><pad><pad><pad><pad><pad><pad><pad><pad><pad><pad><pad><pad><pad><pad><pad><pad><pad><pad><pad><pad><pad><pad><pad><pad><pad><pad><pad><pad><pad><pad><pad><pad><pad><pad><pad><pad><pad><pad><pad><pad><pad><pad><pad><pad><pad><pad><pad><pad><pad><pad><pad><pad><pad><pad><pad><pad><pad><pad><pad><pad><pad><pad><pad><pad><pad><pad><pad><pad><pad><pad><pad><pad><pad><pad><pad><pad><pad><pad><pad><pad><pad><pad><pad><pad><pad><pad><pad><pad><pad><pad><pad><pad><pad><pad><pad><pad><pad><pad><pad><pad><pad><pad><pad><pad><pad><pad><pad><pad><pad><pad><pad><pad><pad><pad><pad><pad><pad><pad><pad><pad><pad><pad><pad><pad><pad><pad><pad><pad><pad><pad><pad><pad><pad><pad><pad><pad><pad><pad><pad><pad><pad><pad><pad><pad><pad><pad><pad><pad><pad><pad><pad><pad><pad><pad><pad><pad><pad><pad><pad><pad><pad><pad><pad><pad><pad><pad><pad><pad><pad><pad><pad><pad><pad><pad><pad><pad><pad><pad><pad><pad><pad><pad><pad><pad><pad><pad><pad><pad><pad><pad><pad><pad><pad><pad><pad><pad><pad><pad><pad><pad><pad><pad><pad><pad><pad><pad><pad><pad><pad><pad><pad><pad><pad><pad><pad><pad><pad><pad><pad><pad><pad><pad><pad><pad><pad><pad><pad><pad><pad><pad><pad><pad><pad><pad><pad><pad><pad><pad><pad><pad><pad><pad><pad><pad><pad><pad><pad><pad><pad><pad><pad><pad><pad><pad><pad><pad><pad><pad><pad>'\n",
      "Label(s): ['TED Fellows' 'Middle East' 'Egypt']\n",
      " \n",
      "Abstract: b'i m born in the western congo in an area. around here. and then went to university in kisangani and after i finished i went to this area the ituri forest. but what i ve been doing. when i was about. fourteen. i grew in my uncle s house and my father was. a soldier and my uncle was a fisherman and also a. poacher what i ve been doing from fourteen to seventeen was i was assisting them collecting. ivory tusk. meat and whatever they were killing poaching hunting in the forest bring it in the main city to get access to the market. but finally i got myself involved. around seventeen to twenty years i became myself poacher. and i wanted to do it because i believed to continue my studies. i wanted to go to university but my father was poor my uncle even. so i did it and for three to four years i went to university for three times i applied to. to biomedical science to be a doctor i didn t succeed i was having my inscriptions my admission to biology. and i said no way i m not doing it my family s poor my area don t have better health care i want to be a doctor to serve them. three times that means three years and i start getting old i say oh no i continue. so i did tropical ecology and plant botany. when i finished i went to ituri forest for my internship. it s where i really getting passion with what i m doing right up to now i m standing in front of you. doing botany and wildlife conservation. that time the ituri forest was created as. a forest reserve. with some animals and also plants and the training center there was built around the. scientific congolese staff and some american scientists also. so the okapi faunal reserve protects. number i. that is the largest number of elephant we have right now in protected area in congo it has also chimpanzees and it has been named. okapi faunal reserve because of this beautiful creature that is a forest giraffe i think you guys know it quite well here we have savanna. giraffe but through evolutions we have this forest giraffe that lives only in congo. it has also. some beautiful primates thirteen species highest diversity we can find in one single area in africa. and it has the ituri forest itself about one thousand three hundred species of plants so far known. i join the wildlife conservation society working there in one thousand nine hundred and ninety five but i started working with them as a student in. ninety one i was appointed as. teaching assistant at my university because i accomplished with honor. but i didn t like the way the instruction i got was very poor. and i wanted to be from to a training center and a research center with the end of. dictatorship regime of mobutu sese seko that most of you know. life became very very difficult and the work we have been doing was completely difficult to do and to achieve it. when kabila started. his movement to liberate congo so mobutu soldiers. started moving and retreated so they started fleeing from the east to the west and. okapi faunal reserve is there. so there was a road from. goma somewhere here and coming like this so. they might go through pass through okapi faunal reserve congo has five of world s richest sites. of protected area and okapi faunal reserve is one of them. so soldier was fleeing in the okapi faunal reserve. on their way they looted everything torture wars oh my god you can t believe. every person was looking his way where to go we don t know and it was for us young. the first time really we hear the language of war of guns. and even people who faced the rebellion of nineteen sixty. three after our independence they didn t believe what was happening. they were killing people they were doing whatever they want because they have power who have been doing that. young children. child soldiers you can t ask him how old he is because he has guns. but i was from the west working in the east i even that time. not speaking swahili. and when they came. they looted everything you can t speak lingala because lingala was from mobutu and everyone speaking lingala is soldier and i was from the same area to him. all my friends said we are leaving because we are a target. but i m not going to the east because there i don t know swahili. i stay. if i go i will be killed i can t go back to my area it s more. than one thousand kilometers i stayed after they looted everything. we have been doing research on botany and we have a small herbarium of four thousand five hundred. sheets of plants we cut we dry and we packed them we mounted them on a folder. purpose so that we start them for agriculture for medicine for whatever and for science. for. the study of the flora and the change of the forest. that is people moving around that s even pygmies and this is. a bright guy hard working person and pygmies i ve been working with him about ten years. and with soldiers they went to the forest for poaching elephants because he s pygmies he know how to track. elephant in the forest he have been attacked by. leopard and they abandon him in the forest. they came to told me i have to save him and what i did i gave him just antibiotics that we care for that. tuberculosis and fortunately i saved his life. and that was the language of the war everywhere there have. been constant extraction of mineral killing animals. the logging timbers and so on and what of important things i think all of you here have a cell phone. that mineral have killed a lot five five millions of congolese have gone because of this colombo tantalite they call it coltan. that they use it to. make cell phone and it have been in that area all over in congo extraction and good big business of the war. and what i did for the first war. after we have lost everything i have to save something even myself my life and life of the staff. i buried some of our new vehicle engine i buried it to save it and some. equipment went with them on the top of the canopy to save it he s not collecting plants he s going to save our equipment on the canopy and. with the material that s left because they wanted to destroy it to burn it they didn t understand it they didn t go to school. i packed it and that is me going to. hurrying to uganda try to save that four thousand material with people. carrying them on the bikes bicycles and after that we succeeded i housed that four thousand material at the. herbarium of makerere university and after the war i have been able to bring it back home so that we continue our studies. the second war came while we didn t expect it with friends we have been sitting and watching match. football and having some good music with. worldspace radio when it started i think. so it was so bad we heard that now from the east again the war started. and it s going fast this time i think kabila will go in place of as he did with mobutu and the reserve was target to the rebels. movements and two militia acting in the same area and competing for natural resources and there was no way to to work. they destroy everything. poaching oh no way and that s the. powerful men we have to meet and to talk to them what s the regulation of the reserve and what is the regulation of the parks and they can t do what. they are doing so we went to meet them that is. coltan extraction gold mining mining. so we started talking with them. convincing them that we are in a protected area there is regulations. that it s prohibited to do logging mining and poaching specifically. but they said you guys you think that soldier who are dying are. not important and your animals you are protecting are most important. we don t think so we have to do it because to let our movement advance i say no way you are not going to do it here. we started talking with them and i was negotiating. tried to protect our equipment tried to protect our staff and the villages of about one thousand. five hundred people. and we continued but i was doing that. negotiating with them sometimes we are having meeting and they are talking with jean pierre bemba with mbusa nyamwisi with kabila. and. i m there sometimes they talk to my own language that is lingala i hear it and what strategy they are doing what they are planning sometimes they are having helicopter to supply them with ammunition. and so on they used me to carry that. and i was doing counting what comes from where and where and where i had only this equipment. my satellite phone my computer and a plastic. solar panel that i hide it in the forest and every time daily after we have meeting what. compromise we have whatever i go i write a short email send it. i don t know how many people i had on my. my address i sent the message what is going about the progress of the war and what they are planning to do they started suspecting that what we do on the morning and. the afternoon it s on the news bbc rfi. something might be going. on and one day we went for a meeting. sorry. one day we went to meet the chief commander he had the same. iridium cell phone like me and he asked me do you know how to use this i said i have never seen it. i don t know and i had mine on my pocket so it was a chance that they trusted me a lot they didn. was not. looking on me so i was scared and when we finished the meeting i went to return it in the forest and i was. sending news. doing whatever reporting daily to u n to unesco to our institution in new york what have been going and for that they have been having big pressure to leave to free the area because there was no way. whatever they do it s known the same times. during the first two rebellions they killed all animals in the zoo we have a zoo of fourteen okapis and one of them was pregnant. and during the war after a week of heavy war. fighting in the area we succeeded we had the first okapi this is the only trouser and shirt i remind me of this this is not local population this is rebels. they are now happy sending the news that they have protected the okapi with the war because we sent the news that they are killing and poaching everywhere. after a week we celebrated the. birthday of that okapi they killed elephant just fifty meters to the. area where the zoo where okapi was born and i was mad i oppose it that they are now going to dissect it until i do my. my report and then i see. the chief commander and i succeeded the elephant just decayed and they just got the the tusks. what we are doing after that that was the. situation of the war we have to rebuild i had some money i was paid one hundred and fifty dollars i devoted. half of it. to rebuild the herbarium because we didn t have good infrastructure to start plants wildlife conservation society more dealing with plants. i started this with seventy dollars and start fundraising money to where i ve been going i had opportunity to go all over where herbarium for my african material is and. they supported me a bit. and i built this now it s doing work to train young congolese and also what one of the speciality we are doing. my design is tracking the global warming effect on biodiversity and what the impacts of the ituri forest is playing to uptake carbon. this is one of the study we are doing on forty hectares plot where we have tagged. trees and lianas from one centimeters and we are tracking them we have now data of about fifteen years. to see how that forest is contributing to the carbon reductions. and that is i think it. s difficult for me this is a very embarrassing talk i know i don t'\n",
      "Label(s): ['activism' 'Africa' 'animals']\n",
      " \n"
     ]
    }
   ],
   "source": [
    "# ================ Dataset preview\n",
    "text_batch, label_batch = next(iter(train_dataset))\n",
    "\n",
    "for i, text in enumerate(text_batch[:5]):\n",
    "    label = label_batch[i].numpy()[None, ...]\n",
    "    print(f\"Abstract: {text[0]}\")\n",
    "    print(f\"Label(s): {invert_multi_hot(label[0])}\")\n",
    "    print(\" \")"
   ]
  },
  {
   "cell_type": "code",
   "execution_count": 609,
   "id": "03c0ab15",
   "metadata": {},
   "outputs": [
    {
     "name": "stdout",
     "output_type": "stream",
     "text": [
      "Vocabulary size: 5761\n"
     ]
    },
    {
     "name": "stderr",
     "output_type": "stream",
     "text": [
      "<ipython-input-609-2ee7a9f3cd92>:2: SettingWithCopyWarning: \n",
      "A value is trying to be set on a copy of a slice from a DataFrame.\n",
      "Try using .loc[row_indexer,col_indexer] = value instead\n",
      "\n",
      "See the caveats in the documentation: https://pandas.pydata.org/pandas-docs/stable/user_guide/indexing.html#returning-a-view-versus-a-copy\n",
      "  train_df[\"total_words\"] = train_df[\"summaries\"].str.split().str.len()\n"
     ]
    }
   ],
   "source": [
    "# ================ Vectorization\n",
    "train_df[\"total_words\"] = train_df[\"summaries\"].str.split().str.len()\n",
    "vocabulary_size = train_df[\"total_words\"].max()\n",
    "print(f\"Vocabulary size: {vocabulary_size}\")\n",
    "\n",
    "text_vectorizer = layers.TextVectorization(\n",
    "    max_tokens=vocabulary_size, ngrams=2, output_mode=\"tf_idf\"\n",
    ")\n",
    "\n",
    "# `TextVectorization` layer needs to be adapted as per the vocabulary from our\n",
    "# training set.\n",
    "with tf.device(\"/CPU:0\"):\n",
    "    text_vectorizer.adapt(train_dataset.map(lambda text, label: text))\n",
    "\n",
    "train_dataset = train_dataset.map(\n",
    "    lambda text, label: (text_vectorizer(text), label), num_parallel_calls=auto\n",
    ").prefetch(auto)\n",
    "validation_dataset = validation_dataset.map(\n",
    "    lambda text, label: (text_vectorizer(text), label), num_parallel_calls=auto\n",
    ").prefetch(auto)\n",
    "test_dataset = test_dataset.map(\n",
    "    lambda text, label: (text_vectorizer(text), label), num_parallel_calls=auto\n",
    ").prefetch(auto)"
   ]
  },
  {
   "cell_type": "code",
   "execution_count": 610,
   "id": "3277c7d0",
   "metadata": {},
   "outputs": [],
   "source": [
    "# ================ Create a text classification model\n",
    "def make_model():\n",
    "    shallow_mlp_model = keras.Sequential(\n",
    "        [\n",
    "            layers.Dense(512, activation=\"relu\"),\n",
    "            layers.Dense(256, activation=\"relu\"),\n",
    "            layers.Dense(lookup.vocabulary_size(), activation=\"sigmoid\"),\n",
    "        ]  # More on why \"sigmoid\" has been used here in a moment.\n",
    "    )\n",
    "    return shallow_mlp_model"
   ]
  },
  {
   "cell_type": "code",
   "execution_count": 611,
   "id": "6066bdbf",
   "metadata": {},
   "outputs": [
    {
     "name": "stdout",
     "output_type": "stream",
     "text": [
      "Epoch 1/20\n",
      "4/4 [==============================] - 1s 107ms/step - loss: 7.5088 - categorical_accuracy: 0.0293 - val_loss: 1.5670 - val_categorical_accuracy: 0.2409\n",
      "Epoch 2/20\n",
      "4/4 [==============================] - 0s 68ms/step - loss: 1.0566 - categorical_accuracy: 0.2347 - val_loss: 0.4267 - val_categorical_accuracy: 0.0000e+00\n",
      "Epoch 3/20\n",
      "4/4 [==============================] - 0s 69ms/step - loss: 0.4026 - categorical_accuracy: 0.0098 - val_loss: 0.3820 - val_categorical_accuracy: 0.0146\n",
      "Epoch 4/20\n",
      "4/4 [==============================] - 0s 70ms/step - loss: 0.3552 - categorical_accuracy: 0.1296 - val_loss: 0.3489 - val_categorical_accuracy: 0.0000e+00\n",
      "Epoch 5/20\n",
      "4/4 [==============================] - 0s 67ms/step - loss: 0.2976 - categorical_accuracy: 0.1247 - val_loss: 0.3069 - val_categorical_accuracy: 0.2336\n",
      "Epoch 6/20\n",
      "4/4 [==============================] - 0s 67ms/step - loss: 0.2547 - categorical_accuracy: 0.3227 - val_loss: 0.2583 - val_categorical_accuracy: 0.0511\n",
      "Epoch 7/20\n",
      "4/4 [==============================] - 0s 67ms/step - loss: 0.2141 - categorical_accuracy: 0.1320 - val_loss: 0.2277 - val_categorical_accuracy: 0.1533\n",
      "Epoch 8/20\n",
      "4/4 [==============================] - 0s 68ms/step - loss: 0.1812 - categorical_accuracy: 0.3325 - val_loss: 0.2026 - val_categorical_accuracy: 0.1168\n",
      "Epoch 9/20\n",
      "4/4 [==============================] - 0s 68ms/step - loss: 0.1517 - categorical_accuracy: 0.2592 - val_loss: 0.1799 - val_categorical_accuracy: 0.1898\n",
      "Epoch 10/20\n",
      "4/4 [==============================] - 0s 67ms/step - loss: 0.1272 - categorical_accuracy: 0.4621 - val_loss: 0.1582 - val_categorical_accuracy: 0.2482\n",
      "Epoch 11/20\n",
      "4/4 [==============================] - 0s 67ms/step - loss: 0.1066 - categorical_accuracy: 0.4328 - val_loss: 0.1449 - val_categorical_accuracy: 0.2336\n",
      "Epoch 12/20\n",
      "4/4 [==============================] - 0s 70ms/step - loss: 0.0933 - categorical_accuracy: 0.4792 - val_loss: 0.1374 - val_categorical_accuracy: 0.2190\n",
      "Epoch 13/20\n",
      "4/4 [==============================] - 0s 67ms/step - loss: 0.0830 - categorical_accuracy: 0.4939 - val_loss: 0.1308 - val_categorical_accuracy: 0.2774\n",
      "Epoch 14/20\n",
      "4/4 [==============================] - 0s 68ms/step - loss: 0.0724 - categorical_accuracy: 0.5770 - val_loss: 0.1250 - val_categorical_accuracy: 0.2555\n",
      "Epoch 15/20\n",
      "4/4 [==============================] - 0s 68ms/step - loss: 0.0635 - categorical_accuracy: 0.5379 - val_loss: 0.1217 - val_categorical_accuracy: 0.2920\n",
      "Epoch 16/20\n",
      "4/4 [==============================] - 0s 67ms/step - loss: 0.0571 - categorical_accuracy: 0.5892 - val_loss: 0.1227 - val_categorical_accuracy: 0.2993\n",
      "Epoch 17/20\n",
      "4/4 [==============================] - 0s 69ms/step - loss: 0.0527 - categorical_accuracy: 0.5990 - val_loss: 0.1188 - val_categorical_accuracy: 0.2701\n",
      "Epoch 18/20\n",
      "4/4 [==============================] - 0s 67ms/step - loss: 0.0477 - categorical_accuracy: 0.5330 - val_loss: 0.1181 - val_categorical_accuracy: 0.3139\n",
      "Epoch 19/20\n",
      "4/4 [==============================] - 0s 71ms/step - loss: 0.0435 - categorical_accuracy: 0.5941 - val_loss: 0.1160 - val_categorical_accuracy: 0.2847\n",
      "Epoch 20/20\n",
      "4/4 [==============================] - 0s 69ms/step - loss: 0.0396 - categorical_accuracy: 0.5306 - val_loss: 0.1156 - val_categorical_accuracy: 0.3066\n"
     ]
    },
    {
     "data": {
      "image/png": "[encoded data removed]",
      "text/plain": [
       "<Figure size 432x288 with 1 Axes>"
      ]
     },
     "metadata": {
      "needs_background": "light"
     },
     "output_type": "display_data"
    },
    {
     "data": {
      "image/png": "[encoded data removed]",
      "text/plain": [
       "<Figure size 432x288 with 1 Axes>"
      ]
     },
     "metadata": {
      "needs_background": "light"
     },
     "output_type": "display_data"
    }
   ],
   "source": [
    "# ================ Train the model\n",
    "epochs = 20\n",
    "\n",
    "shallow_mlp_model = make_model()\n",
    "shallow_mlp_model.compile(\n",
    "    loss=\"binary_crossentropy\", optimizer=\"adam\", metrics=[\"categorical_accuracy\"]\n",
    ")\n",
    "\n",
    "history = shallow_mlp_model.fit(\n",
    "    train_dataset, validation_data=validation_dataset, epochs=epochs\n",
    ")\n",
    "\n",
    "\n",
    "def plot_result(item):\n",
    "    plt.plot(history.history[item], label=item)\n",
    "    plt.plot(history.history[\"val_\" + item], label=\"val_\" + item)\n",
    "    plt.xlabel(\"Epochs\")\n",
    "    plt.ylabel(item)\n",
    "    plt.title(\"Train and Validation {} Over Epochs\".format(item), fontsize=14)\n",
    "    plt.legend()\n",
    "    plt.grid()\n",
    "    plt.show()\n",
    "\n",
    "\n",
    "plot_result(\"loss\")\n",
    "plot_result(\"categorical_accuracy\")"
   ]
  },
  {
   "cell_type": "code",
   "execution_count": 612,
   "id": "5acbb5ad",
   "metadata": {},
   "outputs": [
    {
     "name": "stdout",
     "output_type": "stream",
     "text": [
      "2/2 [==============================] - 0s 4ms/step - loss: 0.1290 - categorical_accuracy: 0.4015\n",
      "Categorical accuracy on the test set: 40.15%.\n"
     ]
    }
   ],
   "source": [
    "# ================ Evaluate the model\n",
    "_, categorical_acc = shallow_mlp_model.evaluate(test_dataset)\n",
    "print(f\"Categorical accuracy on the test set: {round(categorical_acc * 100, 2)}%.\")"
   ]
  },
  {
   "cell_type": "code",
   "execution_count": 613,
   "id": "4e0c641b",
   "metadata": {},
   "outputs": [
    {
     "name": "stdout",
     "output_type": "stream",
     "text": [
      "(137, 3)\n",
      "                       titles  \\\n",
      "1776  RamonaPierson_2011X.stm   \n",
      "1466   MeklitHadero_2015F.stm   \n",
      "318   CameronHerold_2009X.stm   \n",
      "278      BobMankoff_2013S.stm   \n",
      "1695   PaulPholeros_2013X.stm   \n",
      "\n",
      "                                              summaries  \\\n",
      "1776  i m actually going to share something with you...   \n",
      "1466  people often ask me about my influences. or as...   \n",
      "318   be willing to bet that i m the dumbest guy in ...   \n",
      "278   talking about designing humor which is sort of...   \n",
      "1695  the idea of eliminating poverty. is a great go...   \n",
      "\n",
      "                               terms  \n",
      "1776          [TEDx, aging, culture]  \n",
      "1466  [TED Fellows, art, creativity]  \n",
      "318      [TEDx, business, education]  \n",
      "278             [design, humor, art]  \n",
      "1695    [TEDx, architecture, design]  \n",
      "Label(s): ['design' 'art' 'technology']\n",
      "Predicted Label(s): (culture, design, art)\n",
      " \n",
      "Label(s): ['culture' 'global issues' 'Buddhism']\n",
      "Predicted Label(s): (culture, global issues, Buddhism)\n",
      " \n",
      "Label(s): ['business' 'Africa' 'entrepreneur']\n",
      "Predicted Label(s): (global issues, design, culture)\n",
      " \n",
      "Label(s): ['design' 'activism' 'computers']\n",
      "Predicted Label(s): (design, culture, entertainment)\n",
      " \n",
      "Label(s): ['TEDx' 'community' 'leadership']\n",
      "Predicted Label(s): (community, TEDx, leadership)\n",
      " \n",
      "number of correct labels is 9, prediction accuracy is 0.60\n"
     ]
    }
   ],
   "source": [
    "# Create a model for inference.\n",
    "model_for_inference = keras.Sequential([text_vectorizer, shallow_mlp_model])\n",
    "\n",
    "print(test_df.shape)\n",
    "print(test_df.iloc[0:5,:])\n",
    "\n",
    "# Create a small dataset just for demoing inference.\n",
    "inference_dataset = make_dataset(test_df.sample(5), is_train=False)\n",
    "text_batch, label_batch = next(iter(inference_dataset))\n",
    "predicted_probabilities = model_for_inference.predict(text_batch)\n",
    "predicted_acc = 0 \n",
    "\n",
    "# Perform inference.\n",
    "for i, text in enumerate(text_batch[:5]):\n",
    "    label = label_batch[i].numpy()[None, ...]\n",
    "    #print(f\"Abstract: {text[0]}\")\n",
    "    print(f\"Label(s): {invert_multi_hot(label[0])}\")\n",
    "    predicted_proba = [proba for proba in predicted_probabilities[i]]\n",
    "    top_3_labels = [\n",
    "        x\n",
    "        for _, x in sorted(\n",
    "            zip(predicted_probabilities[i], lookup.get_vocabulary()),\n",
    "            key=lambda pair: pair[0],\n",
    "            reverse=True,\n",
    "        )\n",
    "    ][:3]\n",
    "    print(f\"Predicted Label(s): ({', '.join([label for label in top_3_labels])})\")\n",
    "    print(\" \")\n",
    "    \n",
    "    predicted_acc = predicted_acc + \\\n",
    "    len(set(invert_multi_hot(label[0])).intersection([label for label in top_3_labels]))\n",
    "\n",
    "print(f\"number of correct labels is {predicted_acc}, prediction accuracy is {predicted_acc/15:.2f}\") "
   ]
  },
  {
   "cell_type": "code",
   "execution_count": 614,
   "id": "83a7dc4b",
   "metadata": {},
   "outputs": [
    {
     "name": "stdout",
     "output_type": "stream",
     "text": [
      "expected correct labels of random guess is merely 1.67, accuracy is 0.11\n"
     ]
    }
   ],
   "source": [
    "# accuracy of random guess\n",
    "import scipy.special\n",
    "num_labels = 270\n",
    "num_selected = 15\n",
    "random_guess_accuracy = 0\n",
    "for i in range(num_selected):\n",
    "    a = i\n",
    "    b = scipy.special.binom(num_selected,i)\n",
    "    c = scipy.special.binom(num_labels - i, num_selected-i)\n",
    "    d = scipy.special.binom(num_labels, num_selected)\n",
    "    \n",
    "    random_guess_accuracy = random_guess_accuracy + (a*b*c)/d\n",
    "    \n",
    "print(f\"expected correct labels of random guess is merely \\\n",
    "{random_guess_accuracy:.2f}, accuracy is {random_guess_accuracy/num_selected:.2f}\")  "
   ]
  },
  {
   "cell_type": "code",
   "execution_count": 615,
   "id": "d3efc3ff",
   "metadata": {},
   "outputs": [
    {
     "name": "stdout",
     "output_type": "stream",
     "text": [
      "<tf.RaggedTensor [[b'beauty', b'body language', b'design'], [b'business', b'education', b'health'], [b'entertainment', b'food', b'global issues'], [b'body language', b'entertainment', b'gaming'], [b'TED Fellows', b'activism', b'medicine'], [b'astronomy', b'history', b'innovation']]>\n",
      "Label(s): ['[UNK]' 'design']\n",
      "Predicted Label(s): (culture, global issues, design)\n",
      " \n",
      "Label(s): ['business' 'health' 'education']\n",
      "Predicted Label(s): (business, culture, economics)\n",
      " \n",
      "Label(s): ['[UNK]' 'global issues' 'entertainment']\n",
      "Predicted Label(s): (entertainment, global issues, culture)\n",
      " \n",
      "Label(s): ['[UNK]' 'entertainment']\n",
      "Predicted Label(s): (culture, entertainment, TEDx)\n",
      " \n",
      "Label(s): ['activism' 'TED Fellows' 'medicine']\n",
      "Predicted Label(s): (culture, entertainment, health care)\n",
      " \n",
      "Label(s): ['history' 'astronomy' 'innovation']\n",
      "Predicted Label(s): (business, architecture, collaboration)\n",
      " \n",
      "number of correct labels is 5, prediction accuracy is 0.28\n"
     ]
    }
   ],
   "source": [
    "# Create the test dataset from decoded text of the kaldi model (model 2)\n",
    "decode_test_df = pd.read_csv(\"test_text_from_model2.csv\",sep=\",\", error_bad_lines=False)\n",
    "decode_test_df_len = len(decode_test_df)\n",
    "\n",
    "#print(decode_test_df.shape)\n",
    "#print(decode_test_df)\n",
    "\n",
    "decode_test_df[\"terms\"] = decode_test_df[\"terms\"].apply(lambda x: literal_eval(x))\n",
    "\n",
    "def make_testdataset(dataframe):\n",
    "    labels = tf.ragged.constant(dataframe[\"terms\"].values)\n",
    "    print(labels)\n",
    "    label_binarized = lookup(labels).numpy()\n",
    "    #print(dataframe.shape)\n",
    "    #print(label_binarized)\n",
    "    #print(label_binarized.shape)\n",
    "    dataset = tf.data.Dataset.from_tensor_slices(\n",
    "        (dataframe[\"summaries\"].values, label_binarized)\n",
    "    )\n",
    "    dataset = dataset.map(unify_text_length, num_parallel_calls=auto).cache()\n",
    "    return dataset.batch(batch_size)\n",
    "\n",
    "inference_dataset = make_testdataset(decode_test_df)\n",
    "text_batch, label_batch = next(iter(inference_dataset))\n",
    "predicted_probabilities = model_for_inference.predict(text_batch)\n",
    "predicted_acc = 0 \n",
    "\n",
    "# Perform inference.\n",
    "for i, text in enumerate(text_batch[:]):\n",
    "    label = label_batch[i].numpy()[None, ...]\n",
    "    #print(f\"Abstract: {text[0]}\")\n",
    "    print(f\"Label(s): {invert_multi_hot(label[0])}\")\n",
    "    predicted_proba = [proba for proba in predicted_probabilities[i]]\n",
    "    top_3_labels = [\n",
    "        x\n",
    "        for _, x in sorted(\n",
    "            zip(predicted_probabilities[i], lookup.get_vocabulary()),\n",
    "            key=lambda pair: pair[0],\n",
    "            reverse=True,\n",
    "        )\n",
    "    ][:3]\n",
    "    print(f\"Predicted Label(s): ({', '.join([label for label in top_3_labels])})\")\n",
    "    print(\" \")\n",
    "    \n",
    "    predicted_acc = predicted_acc + \\\n",
    "    len(set(invert_multi_hot(label[0])).intersection([label for label in top_3_labels]))\n",
    "\n",
    "print(f\"number of correct labels is {predicted_acc}, \\\n",
    "prediction accuracy is {predicted_acc/(decode_test_df_len*3):.2f}\") "
   ]
  },
  {
   "cell_type": "code",
   "execution_count": null,
   "id": "a2a0bfa6",
   "metadata": {},
   "outputs": [],
   "source": []
  }
 ],
 "metadata": {
  "kernelspec": {
   "display_name": "Python 3",
   "language": "python",
   "name": "python3"
  },
  "language_info": {
   "codemirror_mode": {
    "name": "ipython",
    "version": 3
   },
   "file_extension": ".py",
   "mimetype": "text/x-python",
   "name": "python",
   "nbconvert_exporter": "python",
   "pygments_lexer": "ipython3",
   "version": "3.8.8"
  }
 },
 "nbformat": 4,
 "nbformat_minor": 5
}
